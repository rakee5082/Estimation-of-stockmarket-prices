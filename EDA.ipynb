{
 "cells": [
  {
   "cell_type": "code",
   "execution_count": 38,
   "metadata": {
    "collapsed": true
   },
   "outputs": [],
   "source": [
    "import numpy as np\n",
    "import pandas as pd\n",
    "import matplotlib.pyplot as plt\n",
    "from sklearn.model_selection import KFold\n",
    "from scipy.stats import describe\n",
    "from sklearn.ensemble import ExtraTreesRegressor\n",
    "from sklearn.datasets import load_iris\n",
    "from sklearn.feature_selection import SelectFromModel\n",
    "from sklearn.ensemble import RandomForestRegressor\n",
    "from sklearn.linear_model import LinearRegression\n",
    "from sklearn import preprocessing\n",
    "from sklearn.model_selection import cross_val_score\n",
    "from sklearn.preprocessing import StandardScaler\n",
    "from sklearn.linear_model import LogisticRegression\n",
    "from sklearn import linear_model\n",
    "from sklearn.decomposition import PCA\n",
    "from sklearn.linear_model import LinearRegression\n",
    "from sklearn.model_selection import KFold\n",
    "from sklearn.ensemble import RandomForestRegressor\n",
    "from sklearn.ensemble import AdaBoostRegressor\n",
    "from numpy.random import *\n",
    "from sklearn.pipeline import Pipeline\n",
    "from sklearn.model_selection import KFold\n",
    "from sklearn.pipeline import FeatureUnion\n",
    "from sklearn.feature_selection import SelectKBest\n",
    "from sklearn.model_selection import ShuffleSplit\n",
    "from sklearn.svm import SVR\n",
    "from sklearn.linear_model import Ridge\n",
    "from sklearn.preprocessing import PolynomialFeatures\n",
    "from copy import deepcopy\n"
   ]
  },
  {
   "cell_type": "markdown",
   "metadata": {},
   "source": [
    "first I clean the data based on interpolation for ticker data and removing -1 data for trades data :"
   ]
  },
  {
   "cell_type": "code",
   "execution_count": 21,
   "metadata": {
    "collapsed": true
   },
   "outputs": [],
   "source": [
    "def read_data(obj):\n",
    "    ## get ticker data\n",
    "    ticker = pd.read_csv('data/'+obj+'_ticker.csv', index_col=0, header=None)\n",
    "    ticker.index = pd.to_datetime(ticker.index, unit='s')\n",
    "    ticker.index.name = None\n",
    "    ticker.columns = [\n",
    "        'sell_highest_price', \n",
    "        'sell_highest_vol', \n",
    "        'buy_highest_price', \n",
    "        'buy_highest_vol', \n",
    "        'last_trade_price', \n",
    "        'daily_trade_vol', \n",
    "        'daily_high_price', \n",
    "        'daily_low_price'\n",
    "    ]\n",
    "    ticker.values[np.where(ticker.values <= 0)] = np.nan\n",
    "    ticker = ticker.interpolate()\n",
    "    ## trades data\n",
    "    trades = pd.read_csv('data/'+obj+'_trades.csv', index_col=0, header=None) \n",
    "\n",
    "    ## get book data\n",
    "    book = pd.read_csv('data/'+obj+'_book.csv', index_col=0, header=None)    \n",
    "    ticker = ticker.add_suffix(obj)\n",
    "    return ticker,trades,book\n"
   ]
  },
  {
   "cell_type": "markdown",
   "metadata": {},
   "source": [
    "then I define a function that i can give it a time series and get a supervized problem : in here each column of X has name of lag that we have.\n",
    "then for using nth derivitive of each time I define function data_diff . by this I am gonna find how the trend of data is happening ."
   ]
  },
  {
   "cell_type": "code",
   "execution_count": 22,
   "metadata": {
    "collapsed": true
   },
   "outputs": [],
   "source": [
    "from pandas import DataFrame\n",
    "from pandas import concat\n",
    "\n",
    "def series_to_supervised(data,columns,index, n_in=1, n_out=1, dropnan=True):\n",
    "\tn_vars = 1 if type(data) is list else data.shape[1]\n",
    "\tdf = DataFrame(data)\n",
    "\tcols, names = list(), list()\n",
    "\t# input sequence (t-n, ... t-1)\n",
    "\tfor i in range(n_in, 0, -1):\n",
    "\t\tcols.append(df.shift(i))\n",
    "\t\tnames += [(columns[j]+'(t-%d)' % (i)) for j in range(n_vars)]\n",
    "\t# forecast sequence (t, t+1, ... t+n)\n",
    "\tfor i in range(0, n_out):\n",
    "\t\tcols.append(df.shift(-i))\n",
    "\t\tif i == 0:\n",
    "\t\t\tnames += [(columns[j]+'(t)')for j in range(n_vars)]\n",
    "\t\telse:\n",
    "\t\t\tnames += [(columns[j]+'(t+%d)' % (i)) for j in range(n_vars)]\n",
    "\t# put it all together\n",
    "\tagg = concat(cols, axis=1)\n",
    "\tagg.columns = names\n",
    "\tagg.index = index\n",
    "\t# drop rows with NaN values\n",
    "\tif dropnan:\n",
    "\t\tagg.dropna(inplace=True)\n",
    "\treturn agg\n",
    "\n",
    "\n"
   ]
  },
  {
   "cell_type": "code",
   "execution_count": 24,
   "metadata": {
    "collapsed": false
   },
   "outputs": [],
   "source": [
    "def data_diff(data,columns,index, n_in=1, dropnan=True):\n",
    "\tn_vars = 1 if type(data) is list else data.shape[1]\n",
    "\tdf = DataFrame(data)\n",
    "\tcols, names = list(), list()\n",
    "\t# input sequence (t-n, ... t-1)\n",
    "\tfor i in range(n_in, 0, -1):\n",
    "\t\tcols.append(df.diff(i))\n",
    "\t\tnames += [('diff-'+columns[j]+'(t-%d)' % (i)) for j in range(n_vars)]\n",
    "\t# put it all together\n",
    "\tagg = concat(cols, axis=1)\n",
    "\tagg.columns = names\n",
    "\tagg.index = index\n",
    "\t# drop rows with NaN values\n",
    "\tif dropnan:\n",
    "\t\tagg.dropna(inplace=True)\n",
    "\treturn agg"
   ]
  },
  {
   "cell_type": "code",
   "execution_count": 25,
   "metadata": {
    "collapsed": false
   },
   "outputs": [],
   "source": [
    "cur_met = 'A'\n",
    "metals = ['A', 'B', 'C', 'D', 'E', 'F', 'G', 'H', 'I']\n",
    "ticker = {'A':[], 'B':[], 'C':[], 'D':[], 'E':[], 'F':[], 'G':[], 'H':[], 'I':[]}\n",
    "trades = {'A':[], 'B':[], 'C':[], 'D':[], 'E':[], 'F':[], 'G':[], 'H':[], 'I':[]}\n",
    "book = {'A':[], 'B':[], 'C':[], 'D':[], 'E':[], 'F':[], 'G':[], 'H':[], 'I':[]}\n",
    "for currency in metals:\n",
    "    ticker[currency],trades[currency],book[currency] = read_data(currency)"
   ]
  },
  {
   "cell_type": "code",
   "execution_count": 26,
   "metadata": {
    "collapsed": false
   },
   "outputs": [],
   "source": [
    "########## get statistics of each 5 min in vopr - price and vol trade \n",
    "trades[cur_met].replace(-1,np.NaN)\n",
    "\n",
    "temp_price_trade = trades[cur_met].iloc[:,3::4]\n",
    "#price_trade = temp_price_trade.T.describe()\n",
    "#price_trade = price_trade.drop('count').T\n",
    "#price_trade['sk']=temp_price_trade.T.skew()\n",
    "#price_trade['kurt']=temp_price_trade.T.kurtosis()\n",
    "\n",
    "temp_vol_trade = trades[cur_met].iloc[:,2::4]\n",
    "#vol_trade = temp_vol_trade.T.describe()\n",
    "#vol_trade = vol_trade.drop('count').T\n",
    "\n",
    "temp_vopr_trade = pd.DataFrame(trades[cur_met].iloc[:,3::4].values * trades[cur_met].iloc[:,2::4].values)\n",
    "#vopr_trade= temp_vopr_trade.T.describe()\n",
    "#vopr_trade = vopr_trade.drop('count').T\n",
    "#vopr_trade.index = price_trade.index\n",
    "\n",
    "temp = np.sum(np.absolute(temp_vopr_trade.get_values()),axis=1) / np.sum(np.absolute(temp_vol_trade.get_values()),axis=1)\n",
    "absvopr = {'absvopr' : temp}\n",
    "absvopr = pd.DataFrame.from_dict(absvopr)"
   ]
  },
  {
   "cell_type": "markdown",
   "metadata": {},
   "source": [
    "*feature generation* : "
   ]
  },
  {
   "cell_type": "code",
   "execution_count": 27,
   "metadata": {
    "collapsed": true
   },
   "outputs": [],
   "source": [
    "### add new feature to ticker\n",
    "ticker[cur_met]['daily_vollow_price'] = ticker[cur_met]['daily_low_price'+cur_met] * ticker[cur_met]['daily_trade_vol'+cur_met]\n",
    "ticker[cur_met]['daily_volhigh_price'] = ticker[cur_met]['daily_high_price'+cur_met] * ticker[cur_met]['daily_trade_vol'+cur_met]"
   ]
  },
  {
   "cell_type": "markdown",
   "metadata": {},
   "source": [
    "I first do some eda on data to find patterns on book and trades data that give me better intution on data . then I generate features based on these EDAs."
   ]
  },
  {
   "cell_type": "code",
   "execution_count": 28,
   "metadata": {
    "collapsed": true
   },
   "outputs": [],
   "source": [
    "### take book data features \n",
    "book[cur_met].index = ticker[cur_met].index\n",
    "price_book  = book[cur_met].iloc[:,::3]\n",
    "count_book = book[cur_met].iloc[:,1::3]\n",
    "vol_book = book[cur_met].iloc[:,2::3]\n",
    "all_book = pd.DataFrame(np.absolute(vol_book.get_values()) * price_book.get_values())\n",
    "temp = all_book.abs().sum(axis=1).get_values() / ( vol_book.abs().sum(axis=1).get_values())\n",
    "mp_book = {'mp_book' : temp}\n",
    "mp_book = pd.DataFrame.from_dict(mp_book)\n"
   ]
  },
  {
   "cell_type": "markdown",
   "metadata": {},
   "source": [
    "first I run a random forrest on hule data and features find most important features . and then I remove unimportant features :"
   ]
  },
  {
   "cell_type": "code",
   "execution_count": 29,
   "metadata": {
    "collapsed": false
   },
   "outputs": [
    {
     "data": {
      "text/html": [
       "<div>\n",
       "<table border=\"1\" class=\"dataframe\">\n",
       "  <thead>\n",
       "    <tr style=\"text-align: right;\">\n",
       "      <th></th>\n",
       "      <th>sell_highest_priceB</th>\n",
       "      <th>sell_highest_volB</th>\n",
       "      <th>buy_highest_priceB</th>\n",
       "      <th>buy_highest_volB</th>\n",
       "      <th>last_trade_priceB</th>\n",
       "      <th>daily_trade_volB</th>\n",
       "      <th>daily_high_priceB</th>\n",
       "      <th>daily_low_priceB</th>\n",
       "      <th>sell_highest_priceC</th>\n",
       "      <th>sell_highest_volC</th>\n",
       "      <th>...</th>\n",
       "      <th>daily_high_priceH</th>\n",
       "      <th>daily_low_priceH</th>\n",
       "      <th>sell_highest_priceI</th>\n",
       "      <th>sell_highest_volI</th>\n",
       "      <th>buy_highest_priceI</th>\n",
       "      <th>buy_highest_volI</th>\n",
       "      <th>last_trade_priceI</th>\n",
       "      <th>daily_trade_volI</th>\n",
       "      <th>daily_high_priceI</th>\n",
       "      <th>daily_low_priceI</th>\n",
       "    </tr>\n",
       "  </thead>\n",
       "  <tbody>\n",
       "    <tr>\n",
       "      <th>2017-11-13 06:47:52.005880000</th>\n",
       "      <td>81.892978</td>\n",
       "      <td>370.539968</td>\n",
       "      <td>81.918736</td>\n",
       "      <td>1214.253394</td>\n",
       "      <td>81.886538</td>\n",
       "      <td>116052.638411</td>\n",
       "      <td>86.291256</td>\n",
       "      <td>79.980403</td>\n",
       "      <td>35.543799</td>\n",
       "      <td>233.071195</td>\n",
       "      <td>...</td>\n",
       "      <td>33.41931</td>\n",
       "      <td>31.006682</td>\n",
       "      <td>23.311152</td>\n",
       "      <td>42833.483979</td>\n",
       "      <td>23.324578</td>\n",
       "      <td>26967.599987</td>\n",
       "      <td>23.311152</td>\n",
       "      <td>5.007051e+06</td>\n",
       "      <td>25.499665</td>\n",
       "      <td>23.076189</td>\n",
       "    </tr>\n",
       "    <tr>\n",
       "      <th>2017-11-13 06:52:57.527236999</th>\n",
       "      <td>81.899417</td>\n",
       "      <td>932.577618</td>\n",
       "      <td>81.925176</td>\n",
       "      <td>863.061274</td>\n",
       "      <td>81.886538</td>\n",
       "      <td>116288.844825</td>\n",
       "      <td>86.291256</td>\n",
       "      <td>79.980403</td>\n",
       "      <td>35.546386</td>\n",
       "      <td>711.976232</td>\n",
       "      <td>...</td>\n",
       "      <td>33.41931</td>\n",
       "      <td>31.006682</td>\n",
       "      <td>23.335767</td>\n",
       "      <td>40046.584085</td>\n",
       "      <td>23.380522</td>\n",
       "      <td>24791.365377</td>\n",
       "      <td>23.364858</td>\n",
       "      <td>5.023152e+06</td>\n",
       "      <td>25.499665</td>\n",
       "      <td>23.076189</td>\n",
       "    </tr>\n",
       "    <tr>\n",
       "      <th>2017-11-13 06:57:58.085662000</th>\n",
       "      <td>81.789943</td>\n",
       "      <td>542.775734</td>\n",
       "      <td>81.809262</td>\n",
       "      <td>1041.552825</td>\n",
       "      <td>81.815702</td>\n",
       "      <td>116285.294380</td>\n",
       "      <td>86.291256</td>\n",
       "      <td>79.980403</td>\n",
       "      <td>35.505860</td>\n",
       "      <td>237.014116</td>\n",
       "      <td>...</td>\n",
       "      <td>33.41931</td>\n",
       "      <td>31.006682</td>\n",
       "      <td>23.006819</td>\n",
       "      <td>28733.550972</td>\n",
       "      <td>23.103042</td>\n",
       "      <td>33743.472823</td>\n",
       "      <td>23.103042</td>\n",
       "      <td>5.243893e+06</td>\n",
       "      <td>25.499665</td>\n",
       "      <td>22.825562</td>\n",
       "    </tr>\n",
       "    <tr>\n",
       "      <th>2017-11-13 07:02:57.098389000</th>\n",
       "      <td>81.796383</td>\n",
       "      <td>363.280927</td>\n",
       "      <td>81.809262</td>\n",
       "      <td>1042.962178</td>\n",
       "      <td>81.802822</td>\n",
       "      <td>115899.637079</td>\n",
       "      <td>86.291256</td>\n",
       "      <td>79.980403</td>\n",
       "      <td>35.498100</td>\n",
       "      <td>149.924697</td>\n",
       "      <td>...</td>\n",
       "      <td>33.41931</td>\n",
       "      <td>31.006682</td>\n",
       "      <td>23.022483</td>\n",
       "      <td>49936.354487</td>\n",
       "      <td>23.091853</td>\n",
       "      <td>31601.676881</td>\n",
       "      <td>23.022483</td>\n",
       "      <td>5.256865e+06</td>\n",
       "      <td>25.499665</td>\n",
       "      <td>22.825562</td>\n",
       "    </tr>\n",
       "    <tr>\n",
       "      <th>2017-11-13 07:07:57.429270000</th>\n",
       "      <td>81.616073</td>\n",
       "      <td>395.477433</td>\n",
       "      <td>81.622512</td>\n",
       "      <td>1153.703546</td>\n",
       "      <td>81.622512</td>\n",
       "      <td>115720.433592</td>\n",
       "      <td>86.291256</td>\n",
       "      <td>79.980403</td>\n",
       "      <td>35.484304</td>\n",
       "      <td>192.284731</td>\n",
       "      <td>...</td>\n",
       "      <td>33.41931</td>\n",
       "      <td>31.006682</td>\n",
       "      <td>23.136608</td>\n",
       "      <td>46736.265644</td>\n",
       "      <td>23.138846</td>\n",
       "      <td>29467.498695</td>\n",
       "      <td>23.136608</td>\n",
       "      <td>5.252237e+06</td>\n",
       "      <td>25.499665</td>\n",
       "      <td>22.825562</td>\n",
       "    </tr>\n",
       "  </tbody>\n",
       "</table>\n",
       "<p>5 rows × 64 columns</p>\n",
       "</div>"
      ],
      "text/plain": [
       "                               sell_highest_priceB  sell_highest_volB  \\\n",
       "2017-11-13 06:47:52.005880000            81.892978         370.539968   \n",
       "2017-11-13 06:52:57.527236999            81.899417         932.577618   \n",
       "2017-11-13 06:57:58.085662000            81.789943         542.775734   \n",
       "2017-11-13 07:02:57.098389000            81.796383         363.280927   \n",
       "2017-11-13 07:07:57.429270000            81.616073         395.477433   \n",
       "\n",
       "                               buy_highest_priceB  buy_highest_volB  \\\n",
       "2017-11-13 06:47:52.005880000           81.918736       1214.253394   \n",
       "2017-11-13 06:52:57.527236999           81.925176        863.061274   \n",
       "2017-11-13 06:57:58.085662000           81.809262       1041.552825   \n",
       "2017-11-13 07:02:57.098389000           81.809262       1042.962178   \n",
       "2017-11-13 07:07:57.429270000           81.622512       1153.703546   \n",
       "\n",
       "                               last_trade_priceB  daily_trade_volB  \\\n",
       "2017-11-13 06:47:52.005880000          81.886538     116052.638411   \n",
       "2017-11-13 06:52:57.527236999          81.886538     116288.844825   \n",
       "2017-11-13 06:57:58.085662000          81.815702     116285.294380   \n",
       "2017-11-13 07:02:57.098389000          81.802822     115899.637079   \n",
       "2017-11-13 07:07:57.429270000          81.622512     115720.433592   \n",
       "\n",
       "                               daily_high_priceB  daily_low_priceB  \\\n",
       "2017-11-13 06:47:52.005880000          86.291256         79.980403   \n",
       "2017-11-13 06:52:57.527236999          86.291256         79.980403   \n",
       "2017-11-13 06:57:58.085662000          86.291256         79.980403   \n",
       "2017-11-13 07:02:57.098389000          86.291256         79.980403   \n",
       "2017-11-13 07:07:57.429270000          86.291256         79.980403   \n",
       "\n",
       "                               sell_highest_priceC  sell_highest_volC  \\\n",
       "2017-11-13 06:47:52.005880000            35.543799         233.071195   \n",
       "2017-11-13 06:52:57.527236999            35.546386         711.976232   \n",
       "2017-11-13 06:57:58.085662000            35.505860         237.014116   \n",
       "2017-11-13 07:02:57.098389000            35.498100         149.924697   \n",
       "2017-11-13 07:07:57.429270000            35.484304         192.284731   \n",
       "\n",
       "                                     ...         daily_high_priceH  \\\n",
       "2017-11-13 06:47:52.005880000        ...                  33.41931   \n",
       "2017-11-13 06:52:57.527236999        ...                  33.41931   \n",
       "2017-11-13 06:57:58.085662000        ...                  33.41931   \n",
       "2017-11-13 07:02:57.098389000        ...                  33.41931   \n",
       "2017-11-13 07:07:57.429270000        ...                  33.41931   \n",
       "\n",
       "                               daily_low_priceH  sell_highest_priceI  \\\n",
       "2017-11-13 06:47:52.005880000         31.006682            23.311152   \n",
       "2017-11-13 06:52:57.527236999         31.006682            23.335767   \n",
       "2017-11-13 06:57:58.085662000         31.006682            23.006819   \n",
       "2017-11-13 07:02:57.098389000         31.006682            23.022483   \n",
       "2017-11-13 07:07:57.429270000         31.006682            23.136608   \n",
       "\n",
       "                               sell_highest_volI  buy_highest_priceI  \\\n",
       "2017-11-13 06:47:52.005880000       42833.483979           23.324578   \n",
       "2017-11-13 06:52:57.527236999       40046.584085           23.380522   \n",
       "2017-11-13 06:57:58.085662000       28733.550972           23.103042   \n",
       "2017-11-13 07:02:57.098389000       49936.354487           23.091853   \n",
       "2017-11-13 07:07:57.429270000       46736.265644           23.138846   \n",
       "\n",
       "                               buy_highest_volI  last_trade_priceI  \\\n",
       "2017-11-13 06:47:52.005880000      26967.599987          23.311152   \n",
       "2017-11-13 06:52:57.527236999      24791.365377          23.364858   \n",
       "2017-11-13 06:57:58.085662000      33743.472823          23.103042   \n",
       "2017-11-13 07:02:57.098389000      31601.676881          23.022483   \n",
       "2017-11-13 07:07:57.429270000      29467.498695          23.136608   \n",
       "\n",
       "                               daily_trade_volI  daily_high_priceI  \\\n",
       "2017-11-13 06:47:52.005880000      5.007051e+06          25.499665   \n",
       "2017-11-13 06:52:57.527236999      5.023152e+06          25.499665   \n",
       "2017-11-13 06:57:58.085662000      5.243893e+06          25.499665   \n",
       "2017-11-13 07:02:57.098389000      5.256865e+06          25.499665   \n",
       "2017-11-13 07:07:57.429270000      5.252237e+06          25.499665   \n",
       "\n",
       "                               daily_low_priceI  \n",
       "2017-11-13 06:47:52.005880000         23.076189  \n",
       "2017-11-13 06:52:57.527236999         23.076189  \n",
       "2017-11-13 06:57:58.085662000         22.825562  \n",
       "2017-11-13 07:02:57.098389000         22.825562  \n",
       "2017-11-13 07:07:57.429270000         22.825562  \n",
       "\n",
       "[5 rows x 64 columns]"
      ]
     },
     "execution_count": 29,
     "metadata": {},
     "output_type": "execute_result"
    }
   ],
   "source": [
    "K = 10\n",
    "### set index of dataframe to time and merger data \n",
    "absvopr.index = ticker[cur_met].index\n",
    "mp_book.index = ticker[cur_met].index\n",
    "### merge step ticker and trade\n",
    "imp_ticker = ticker[cur_met].iloc[:,[0,2,4,7]]    \n",
    "#stock = pd.merge(ticker,vopr_trade, left_index=True, right_index=True)\n",
    "stock = pd.DataFrame(index=ticker[cur_met].index)\n",
    "stock = pd.merge(imp_ticker,absvopr, left_index=True, right_index=True) ## y\n",
    "#stock = pd.merge(stock,vol_trade, left_index=True, right_index=True) ## x\n",
    "stock = pd.merge(stock,mp_book, left_index=True, right_index=True) ## y\n",
    "other_stock = pd.DataFrame(index=ticker[cur_met].index)\n",
    "for currency in metals:\n",
    "    if(currency!=cur_met):\n",
    "        ticker[currency].index = ticker[cur_met].index\n",
    "        temp_tic = ticker[currency].iloc[:,:]\n",
    "        other_stock = pd.merge(other_stock,temp_tic, left_index=True, right_index=True)\n",
    "other_stock.head()"
   ]
  },
  {
   "cell_type": "code",
   "execution_count": 30,
   "metadata": {
    "collapsed": true
   },
   "outputs": [],
   "source": [
    "all_feat = [u'sell_highest_price',\n",
    " u'buy_highest_price',\n",
    " u'last_trade_price',]\n",
    "all_feat = [x+cur_met for x in all_feat]\n",
    "all_feat.append(u'absvopr')"
   ]
  },
  {
   "cell_type": "code",
   "execution_count": 31,
   "metadata": {
    "collapsed": false
   },
   "outputs": [
    {
     "data": {
      "text/html": [
       "<div>\n",
       "<table border=\"1\" class=\"dataframe\">\n",
       "  <thead>\n",
       "    <tr style=\"text-align: right;\">\n",
       "      <th></th>\n",
       "      <th>sell_highest_priceB</th>\n",
       "      <th>sell_highest_volB</th>\n",
       "      <th>buy_highest_priceB</th>\n",
       "      <th>buy_highest_volB</th>\n",
       "      <th>last_trade_priceB</th>\n",
       "      <th>daily_trade_volB</th>\n",
       "      <th>daily_high_priceB</th>\n",
       "      <th>daily_low_priceB</th>\n",
       "      <th>sell_highest_priceC</th>\n",
       "      <th>sell_highest_volC</th>\n",
       "      <th>...</th>\n",
       "      <th>daily_high_priceH</th>\n",
       "      <th>daily_low_priceH</th>\n",
       "      <th>sell_highest_priceI</th>\n",
       "      <th>sell_highest_volI</th>\n",
       "      <th>buy_highest_priceI</th>\n",
       "      <th>buy_highest_volI</th>\n",
       "      <th>last_trade_priceI</th>\n",
       "      <th>daily_trade_volI</th>\n",
       "      <th>daily_high_priceI</th>\n",
       "      <th>daily_low_priceI</th>\n",
       "    </tr>\n",
       "  </thead>\n",
       "  <tbody>\n",
       "    <tr>\n",
       "      <th>2017-11-13 06:47:52.005880000</th>\n",
       "      <td>81.892978</td>\n",
       "      <td>370.539968</td>\n",
       "      <td>81.918736</td>\n",
       "      <td>1214.253394</td>\n",
       "      <td>81.886538</td>\n",
       "      <td>116052.638411</td>\n",
       "      <td>86.291256</td>\n",
       "      <td>79.980403</td>\n",
       "      <td>35.543799</td>\n",
       "      <td>233.071195</td>\n",
       "      <td>...</td>\n",
       "      <td>33.41931</td>\n",
       "      <td>31.006682</td>\n",
       "      <td>23.311152</td>\n",
       "      <td>42833.483979</td>\n",
       "      <td>23.324578</td>\n",
       "      <td>26967.599987</td>\n",
       "      <td>23.311152</td>\n",
       "      <td>5.007051e+06</td>\n",
       "      <td>25.499665</td>\n",
       "      <td>23.076189</td>\n",
       "    </tr>\n",
       "    <tr>\n",
       "      <th>2017-11-13 06:52:57.527236999</th>\n",
       "      <td>81.899417</td>\n",
       "      <td>932.577618</td>\n",
       "      <td>81.925176</td>\n",
       "      <td>863.061274</td>\n",
       "      <td>81.886538</td>\n",
       "      <td>116288.844825</td>\n",
       "      <td>86.291256</td>\n",
       "      <td>79.980403</td>\n",
       "      <td>35.546386</td>\n",
       "      <td>711.976232</td>\n",
       "      <td>...</td>\n",
       "      <td>33.41931</td>\n",
       "      <td>31.006682</td>\n",
       "      <td>23.335767</td>\n",
       "      <td>40046.584085</td>\n",
       "      <td>23.380522</td>\n",
       "      <td>24791.365377</td>\n",
       "      <td>23.364858</td>\n",
       "      <td>5.023152e+06</td>\n",
       "      <td>25.499665</td>\n",
       "      <td>23.076189</td>\n",
       "    </tr>\n",
       "    <tr>\n",
       "      <th>2017-11-13 06:57:58.085662000</th>\n",
       "      <td>81.789943</td>\n",
       "      <td>542.775734</td>\n",
       "      <td>81.809262</td>\n",
       "      <td>1041.552825</td>\n",
       "      <td>81.815702</td>\n",
       "      <td>116285.294380</td>\n",
       "      <td>86.291256</td>\n",
       "      <td>79.980403</td>\n",
       "      <td>35.505860</td>\n",
       "      <td>237.014116</td>\n",
       "      <td>...</td>\n",
       "      <td>33.41931</td>\n",
       "      <td>31.006682</td>\n",
       "      <td>23.006819</td>\n",
       "      <td>28733.550972</td>\n",
       "      <td>23.103042</td>\n",
       "      <td>33743.472823</td>\n",
       "      <td>23.103042</td>\n",
       "      <td>5.243893e+06</td>\n",
       "      <td>25.499665</td>\n",
       "      <td>22.825562</td>\n",
       "    </tr>\n",
       "    <tr>\n",
       "      <th>2017-11-13 07:02:57.098389000</th>\n",
       "      <td>81.796383</td>\n",
       "      <td>363.280927</td>\n",
       "      <td>81.809262</td>\n",
       "      <td>1042.962178</td>\n",
       "      <td>81.802822</td>\n",
       "      <td>115899.637079</td>\n",
       "      <td>86.291256</td>\n",
       "      <td>79.980403</td>\n",
       "      <td>35.498100</td>\n",
       "      <td>149.924697</td>\n",
       "      <td>...</td>\n",
       "      <td>33.41931</td>\n",
       "      <td>31.006682</td>\n",
       "      <td>23.022483</td>\n",
       "      <td>49936.354487</td>\n",
       "      <td>23.091853</td>\n",
       "      <td>31601.676881</td>\n",
       "      <td>23.022483</td>\n",
       "      <td>5.256865e+06</td>\n",
       "      <td>25.499665</td>\n",
       "      <td>22.825562</td>\n",
       "    </tr>\n",
       "    <tr>\n",
       "      <th>2017-11-13 07:07:57.429270000</th>\n",
       "      <td>81.616073</td>\n",
       "      <td>395.477433</td>\n",
       "      <td>81.622512</td>\n",
       "      <td>1153.703546</td>\n",
       "      <td>81.622512</td>\n",
       "      <td>115720.433592</td>\n",
       "      <td>86.291256</td>\n",
       "      <td>79.980403</td>\n",
       "      <td>35.484304</td>\n",
       "      <td>192.284731</td>\n",
       "      <td>...</td>\n",
       "      <td>33.41931</td>\n",
       "      <td>31.006682</td>\n",
       "      <td>23.136608</td>\n",
       "      <td>46736.265644</td>\n",
       "      <td>23.138846</td>\n",
       "      <td>29467.498695</td>\n",
       "      <td>23.136608</td>\n",
       "      <td>5.252237e+06</td>\n",
       "      <td>25.499665</td>\n",
       "      <td>22.825562</td>\n",
       "    </tr>\n",
       "  </tbody>\n",
       "</table>\n",
       "<p>5 rows × 64 columns</p>\n",
       "</div>"
      ],
      "text/plain": [
       "                               sell_highest_priceB  sell_highest_volB  \\\n",
       "2017-11-13 06:47:52.005880000            81.892978         370.539968   \n",
       "2017-11-13 06:52:57.527236999            81.899417         932.577618   \n",
       "2017-11-13 06:57:58.085662000            81.789943         542.775734   \n",
       "2017-11-13 07:02:57.098389000            81.796383         363.280927   \n",
       "2017-11-13 07:07:57.429270000            81.616073         395.477433   \n",
       "\n",
       "                               buy_highest_priceB  buy_highest_volB  \\\n",
       "2017-11-13 06:47:52.005880000           81.918736       1214.253394   \n",
       "2017-11-13 06:52:57.527236999           81.925176        863.061274   \n",
       "2017-11-13 06:57:58.085662000           81.809262       1041.552825   \n",
       "2017-11-13 07:02:57.098389000           81.809262       1042.962178   \n",
       "2017-11-13 07:07:57.429270000           81.622512       1153.703546   \n",
       "\n",
       "                               last_trade_priceB  daily_trade_volB  \\\n",
       "2017-11-13 06:47:52.005880000          81.886538     116052.638411   \n",
       "2017-11-13 06:52:57.527236999          81.886538     116288.844825   \n",
       "2017-11-13 06:57:58.085662000          81.815702     116285.294380   \n",
       "2017-11-13 07:02:57.098389000          81.802822     115899.637079   \n",
       "2017-11-13 07:07:57.429270000          81.622512     115720.433592   \n",
       "\n",
       "                               daily_high_priceB  daily_low_priceB  \\\n",
       "2017-11-13 06:47:52.005880000          86.291256         79.980403   \n",
       "2017-11-13 06:52:57.527236999          86.291256         79.980403   \n",
       "2017-11-13 06:57:58.085662000          86.291256         79.980403   \n",
       "2017-11-13 07:02:57.098389000          86.291256         79.980403   \n",
       "2017-11-13 07:07:57.429270000          86.291256         79.980403   \n",
       "\n",
       "                               sell_highest_priceC  sell_highest_volC  \\\n",
       "2017-11-13 06:47:52.005880000            35.543799         233.071195   \n",
       "2017-11-13 06:52:57.527236999            35.546386         711.976232   \n",
       "2017-11-13 06:57:58.085662000            35.505860         237.014116   \n",
       "2017-11-13 07:02:57.098389000            35.498100         149.924697   \n",
       "2017-11-13 07:07:57.429270000            35.484304         192.284731   \n",
       "\n",
       "                                     ...         daily_high_priceH  \\\n",
       "2017-11-13 06:47:52.005880000        ...                  33.41931   \n",
       "2017-11-13 06:52:57.527236999        ...                  33.41931   \n",
       "2017-11-13 06:57:58.085662000        ...                  33.41931   \n",
       "2017-11-13 07:02:57.098389000        ...                  33.41931   \n",
       "2017-11-13 07:07:57.429270000        ...                  33.41931   \n",
       "\n",
       "                               daily_low_priceH  sell_highest_priceI  \\\n",
       "2017-11-13 06:47:52.005880000         31.006682            23.311152   \n",
       "2017-11-13 06:52:57.527236999         31.006682            23.335767   \n",
       "2017-11-13 06:57:58.085662000         31.006682            23.006819   \n",
       "2017-11-13 07:02:57.098389000         31.006682            23.022483   \n",
       "2017-11-13 07:07:57.429270000         31.006682            23.136608   \n",
       "\n",
       "                               sell_highest_volI  buy_highest_priceI  \\\n",
       "2017-11-13 06:47:52.005880000       42833.483979           23.324578   \n",
       "2017-11-13 06:52:57.527236999       40046.584085           23.380522   \n",
       "2017-11-13 06:57:58.085662000       28733.550972           23.103042   \n",
       "2017-11-13 07:02:57.098389000       49936.354487           23.091853   \n",
       "2017-11-13 07:07:57.429270000       46736.265644           23.138846   \n",
       "\n",
       "                               buy_highest_volI  last_trade_priceI  \\\n",
       "2017-11-13 06:47:52.005880000      26967.599987          23.311152   \n",
       "2017-11-13 06:52:57.527236999      24791.365377          23.364858   \n",
       "2017-11-13 06:57:58.085662000      33743.472823          23.103042   \n",
       "2017-11-13 07:02:57.098389000      31601.676881          23.022483   \n",
       "2017-11-13 07:07:57.429270000      29467.498695          23.136608   \n",
       "\n",
       "                               daily_trade_volI  daily_high_priceI  \\\n",
       "2017-11-13 06:47:52.005880000      5.007051e+06          25.499665   \n",
       "2017-11-13 06:52:57.527236999      5.023152e+06          25.499665   \n",
       "2017-11-13 06:57:58.085662000      5.243893e+06          25.499665   \n",
       "2017-11-13 07:02:57.098389000      5.256865e+06          25.499665   \n",
       "2017-11-13 07:07:57.429270000      5.252237e+06          25.499665   \n",
       "\n",
       "                               daily_low_priceI  \n",
       "2017-11-13 06:47:52.005880000         23.076189  \n",
       "2017-11-13 06:52:57.527236999         23.076189  \n",
       "2017-11-13 06:57:58.085662000         22.825562  \n",
       "2017-11-13 07:02:57.098389000         22.825562  \n",
       "2017-11-13 07:07:57.429270000         22.825562  \n",
       "\n",
       "[5 rows x 64 columns]"
      ]
     },
     "execution_count": 31,
     "metadata": {},
     "output_type": "execute_result"
    }
   ],
   "source": [
    "#list(range(stock.shape[1]))#[0,2,4,7] #+ [9,10,14,16,17,21,23,24,28]\n",
    "temp_stock = stock.loc[:,all_feat];\n",
    "data_stock_raw = series_to_supervised(temp_stock.values,temp_stock.columns.get_values(),temp_stock.index,25, 11)\n",
    "#other_data_raw = series_to_supervised(other_stock.values,other_stock.columns.get_values(),other_stock.index,0, 1)\n",
    "other_data_raw = other_stock\n",
    "#data_diffren = data_diff(temp_stock.values,temp_stock.columns.get_values(),temp_stock.index,20)\n",
    "other_data_raw.head()\n"
   ]
  },
  {
   "cell_type": "code",
   "execution_count": 32,
   "metadata": {
    "collapsed": false
   },
   "outputs": [
    {
     "data": {
      "text/plain": [
       "(11166, 144)"
      ]
     },
     "execution_count": 32,
     "metadata": {},
     "output_type": "execute_result"
    }
   ],
   "source": [
    "data_stock_raw.shape"
   ]
  },
  {
   "cell_type": "markdown",
   "metadata": {},
   "source": [
    "I use diffrent models to find best cross validation error on data and diffrent features that I used before:"
   ]
  },
  {
   "cell_type": "code",
   "execution_count": 33,
   "metadata": {
    "collapsed": false
   },
   "outputs": [],
   "source": [
    "#### my models galery :) \n",
    "lasso = linear_model.Lasso()\n",
    "rig = Ridge(alpha=2)\n",
    "lin = LinearRegression()\n",
    "f_model2 =ExtraTreesRegressor(n_estimators=100, max_features=50,\n",
    "                                       random_state=0)\n",
    "f_model1 =ExtraTreesRegressor(n_estimators=100, max_features=50,\n",
    "                                       random_state=0)\n",
    "model = RandomForestRegressor(n_estimators=20, random_state=1)\n",
    "logisticRegr = LogisticRegression(C=0.1,  \n",
    "                           max_iter=20, \n",
    "                           fit_intercept=True, \n",
    "                           n_jobs=-1, \n",
    "                           solver='liblinear')\n",
    "ada_model = AdaBoostRegressor(base_estimator=LinearRegression(), loss='exponential')\n",
    "adam_model = AdaBoostRegressor(base_estimator=f_model1, loss='exponential')\n",
    "svr = SVR(kernel='rbf', C=1e3, gamma=0.1)\n",
    "\n",
    "# create feature union\n",
    "# create pipeline\n",
    "estimators = []\n",
    "estimators.append(('feature_selection', SelectFromModel(f_model1)))\n",
    "estimators.append(('lin', f_model2))\n",
    "pip = Pipeline(estimators)"
   ]
  },
  {
   "cell_type": "markdown",
   "metadata": {},
   "source": [
    "in here I choose witch feature to use :"
   ]
  },
  {
   "cell_type": "code",
   "execution_count": 34,
   "metadata": {
    "collapsed": true
   },
   "outputs": [],
   "source": [
    "#### set feature name \n",
    "input_feat = temp_stock.columns\n",
    "past_feat = [0,1,10]\n",
    "input_names = []\n",
    "for i in past_feat:\n",
    "    if (i==0):\n",
    "        input_names += [(input_feat[j]+'(t)')for j in range(len(input_feat))]\n",
    "    else:\n",
    "         input_names += [(input_feat[j]+'(t-%d)' % (i))for j in range(len(input_feat))]\n",
    "\n",
    "#diff_feat =[1,2]\n",
    "#diff_names = []\n",
    "#for i in diff_feat:\n",
    "#    diff_names += [('diff-'+input_feat[j]+'(t-%d)' % (i)) for j in range(len(input_feat))]\n",
    "    \n",
    "#input_names += diff_names\n",
    "\n",
    "output_feat = temp_stock.columns[2]\n",
    "fut_feat = list(range(10))\n",
    "fut_feat = []\n",
    "for i in range(1,11):\n",
    "     temp = []\n",
    "     temp.append(output_feat+'(t+%d)' % (i))\n",
    "     fut_feat.append(temp)"
   ]
  },
  {
   "cell_type": "markdown",
   "metadata": {},
   "source": [
    "adding other stock data to raw stock data :"
   ]
  },
  {
   "cell_type": "code",
   "execution_count": 35,
   "metadata": {
    "collapsed": false
   },
   "outputs": [
    {
     "data": {
      "text/html": [
       "<div>\n",
       "<table border=\"1\" class=\"dataframe\">\n",
       "  <thead>\n",
       "    <tr style=\"text-align: right;\">\n",
       "      <th></th>\n",
       "      <th>sell_highest_priceB</th>\n",
       "      <th>sell_highest_volB</th>\n",
       "      <th>buy_highest_priceB</th>\n",
       "      <th>buy_highest_volB</th>\n",
       "      <th>last_trade_priceB</th>\n",
       "      <th>daily_trade_volB</th>\n",
       "      <th>daily_high_priceB</th>\n",
       "      <th>daily_low_priceB</th>\n",
       "      <th>sell_highest_priceC</th>\n",
       "      <th>sell_highest_volC</th>\n",
       "      <th>...</th>\n",
       "      <th>last_trade_priceA(t)</th>\n",
       "      <th>absvopr(t)</th>\n",
       "      <th>sell_highest_priceA(t-1)</th>\n",
       "      <th>buy_highest_priceA(t-1)</th>\n",
       "      <th>last_trade_priceA(t-1)</th>\n",
       "      <th>absvopr(t-1)</th>\n",
       "      <th>sell_highest_priceA(t-10)</th>\n",
       "      <th>buy_highest_priceA(t-10)</th>\n",
       "      <th>last_trade_priceA(t-10)</th>\n",
       "      <th>absvopr(t-10)</th>\n",
       "    </tr>\n",
       "  </thead>\n",
       "  <tbody>\n",
       "    <tr>\n",
       "      <th>2017-11-13 08:52:58.107389</th>\n",
       "      <td>81.191056</td>\n",
       "      <td>466.093478</td>\n",
       "      <td>81.223254</td>\n",
       "      <td>829.498297</td>\n",
       "      <td>81.191056</td>\n",
       "      <td>107025.733073</td>\n",
       "      <td>86.291256</td>\n",
       "      <td>79.980403</td>\n",
       "      <td>35.366175</td>\n",
       "      <td>418.269665</td>\n",
       "      <td>...</td>\n",
       "      <td>69.877151</td>\n",
       "      <td>69.760374</td>\n",
       "      <td>69.386305</td>\n",
       "      <td>69.387372</td>\n",
       "      <td>69.302008</td>\n",
       "      <td>69.484474</td>\n",
       "      <td>70.206870</td>\n",
       "      <td>70.207938</td>\n",
       "      <td>70.197267</td>\n",
       "      <td>70.123346</td>\n",
       "    </tr>\n",
       "    <tr>\n",
       "      <th>2017-11-13 08:58:00.106485</th>\n",
       "      <td>81.203935</td>\n",
       "      <td>721.797127</td>\n",
       "      <td>81.210375</td>\n",
       "      <td>622.015168</td>\n",
       "      <td>81.203935</td>\n",
       "      <td>106954.146469</td>\n",
       "      <td>86.291256</td>\n",
       "      <td>79.980403</td>\n",
       "      <td>35.340307</td>\n",
       "      <td>311.505994</td>\n",
       "      <td>...</td>\n",
       "      <td>69.838737</td>\n",
       "      <td>69.958123</td>\n",
       "      <td>69.876083</td>\n",
       "      <td>69.877151</td>\n",
       "      <td>69.877151</td>\n",
       "      <td>69.760374</td>\n",
       "      <td>70.267693</td>\n",
       "      <td>70.268760</td>\n",
       "      <td>70.268760</td>\n",
       "      <td>70.226169</td>\n",
       "    </tr>\n",
       "    <tr>\n",
       "      <th>2017-11-13 09:02:57.060709</th>\n",
       "      <td>80.965669</td>\n",
       "      <td>553.844954</td>\n",
       "      <td>80.972108</td>\n",
       "      <td>295.606153</td>\n",
       "      <td>80.972108</td>\n",
       "      <td>106758.488878</td>\n",
       "      <td>86.291256</td>\n",
       "      <td>79.980403</td>\n",
       "      <td>35.255806</td>\n",
       "      <td>158.226028</td>\n",
       "      <td>...</td>\n",
       "      <td>69.659471</td>\n",
       "      <td>69.852841</td>\n",
       "      <td>69.824865</td>\n",
       "      <td>69.838737</td>\n",
       "      <td>69.838737</td>\n",
       "      <td>69.958123</td>\n",
       "      <td>70.108701</td>\n",
       "      <td>70.111903</td>\n",
       "      <td>70.179127</td>\n",
       "      <td>69.981522</td>\n",
       "    </tr>\n",
       "    <tr>\n",
       "      <th>2017-11-13 09:07:58.085158</th>\n",
       "      <td>80.952789</td>\n",
       "      <td>686.232097</td>\n",
       "      <td>81.062263</td>\n",
       "      <td>607.938402</td>\n",
       "      <td>81.081582</td>\n",
       "      <td>106652.758497</td>\n",
       "      <td>86.291256</td>\n",
       "      <td>79.980403</td>\n",
       "      <td>35.245459</td>\n",
       "      <td>169.480834</td>\n",
       "      <td>...</td>\n",
       "      <td>69.650935</td>\n",
       "      <td>69.622181</td>\n",
       "      <td>69.659471</td>\n",
       "      <td>69.663740</td>\n",
       "      <td>69.659471</td>\n",
       "      <td>69.852841</td>\n",
       "      <td>69.559168</td>\n",
       "      <td>69.613588</td>\n",
       "      <td>69.609320</td>\n",
       "      <td>69.532790</td>\n",
       "    </tr>\n",
       "    <tr>\n",
       "      <th>2017-11-13 09:12:57.084185</th>\n",
       "      <td>80.927031</td>\n",
       "      <td>767.644856</td>\n",
       "      <td>80.997867</td>\n",
       "      <td>769.257271</td>\n",
       "      <td>80.946350</td>\n",
       "      <td>106317.921652</td>\n",
       "      <td>86.291256</td>\n",
       "      <td>79.980403</td>\n",
       "      <td>35.339445</td>\n",
       "      <td>391.576589</td>\n",
       "      <td>...</td>\n",
       "      <td>69.734165</td>\n",
       "      <td>69.723012</td>\n",
       "      <td>69.659471</td>\n",
       "      <td>69.673343</td>\n",
       "      <td>69.650935</td>\n",
       "      <td>69.622181</td>\n",
       "      <td>69.475938</td>\n",
       "      <td>69.491944</td>\n",
       "      <td>69.471670</td>\n",
       "      <td>69.592144</td>\n",
       "    </tr>\n",
       "  </tbody>\n",
       "</table>\n",
       "<p>5 rows × 76 columns</p>\n",
       "</div>"
      ],
      "text/plain": [
       "                            sell_highest_priceB  sell_highest_volB  \\\n",
       "2017-11-13 08:52:58.107389            81.191056         466.093478   \n",
       "2017-11-13 08:58:00.106485            81.203935         721.797127   \n",
       "2017-11-13 09:02:57.060709            80.965669         553.844954   \n",
       "2017-11-13 09:07:58.085158            80.952789         686.232097   \n",
       "2017-11-13 09:12:57.084185            80.927031         767.644856   \n",
       "\n",
       "                            buy_highest_priceB  buy_highest_volB  \\\n",
       "2017-11-13 08:52:58.107389           81.223254        829.498297   \n",
       "2017-11-13 08:58:00.106485           81.210375        622.015168   \n",
       "2017-11-13 09:02:57.060709           80.972108        295.606153   \n",
       "2017-11-13 09:07:58.085158           81.062263        607.938402   \n",
       "2017-11-13 09:12:57.084185           80.997867        769.257271   \n",
       "\n",
       "                            last_trade_priceB  daily_trade_volB  \\\n",
       "2017-11-13 08:52:58.107389          81.191056     107025.733073   \n",
       "2017-11-13 08:58:00.106485          81.203935     106954.146469   \n",
       "2017-11-13 09:02:57.060709          80.972108     106758.488878   \n",
       "2017-11-13 09:07:58.085158          81.081582     106652.758497   \n",
       "2017-11-13 09:12:57.084185          80.946350     106317.921652   \n",
       "\n",
       "                            daily_high_priceB  daily_low_priceB  \\\n",
       "2017-11-13 08:52:58.107389          86.291256         79.980403   \n",
       "2017-11-13 08:58:00.106485          86.291256         79.980403   \n",
       "2017-11-13 09:02:57.060709          86.291256         79.980403   \n",
       "2017-11-13 09:07:58.085158          86.291256         79.980403   \n",
       "2017-11-13 09:12:57.084185          86.291256         79.980403   \n",
       "\n",
       "                            sell_highest_priceC  sell_highest_volC  \\\n",
       "2017-11-13 08:52:58.107389            35.366175         418.269665   \n",
       "2017-11-13 08:58:00.106485            35.340307         311.505994   \n",
       "2017-11-13 09:02:57.060709            35.255806         158.226028   \n",
       "2017-11-13 09:07:58.085158            35.245459         169.480834   \n",
       "2017-11-13 09:12:57.084185            35.339445         391.576589   \n",
       "\n",
       "                                ...        last_trade_priceA(t)  absvopr(t)  \\\n",
       "2017-11-13 08:52:58.107389      ...                   69.877151   69.760374   \n",
       "2017-11-13 08:58:00.106485      ...                   69.838737   69.958123   \n",
       "2017-11-13 09:02:57.060709      ...                   69.659471   69.852841   \n",
       "2017-11-13 09:07:58.085158      ...                   69.650935   69.622181   \n",
       "2017-11-13 09:12:57.084185      ...                   69.734165   69.723012   \n",
       "\n",
       "                            sell_highest_priceA(t-1)  buy_highest_priceA(t-1)  \\\n",
       "2017-11-13 08:52:58.107389                 69.386305                69.387372   \n",
       "2017-11-13 08:58:00.106485                 69.876083                69.877151   \n",
       "2017-11-13 09:02:57.060709                 69.824865                69.838737   \n",
       "2017-11-13 09:07:58.085158                 69.659471                69.663740   \n",
       "2017-11-13 09:12:57.084185                 69.659471                69.673343   \n",
       "\n",
       "                            last_trade_priceA(t-1)  absvopr(t-1)  \\\n",
       "2017-11-13 08:52:58.107389               69.302008     69.484474   \n",
       "2017-11-13 08:58:00.106485               69.877151     69.760374   \n",
       "2017-11-13 09:02:57.060709               69.838737     69.958123   \n",
       "2017-11-13 09:07:58.085158               69.659471     69.852841   \n",
       "2017-11-13 09:12:57.084185               69.650935     69.622181   \n",
       "\n",
       "                            sell_highest_priceA(t-10)  \\\n",
       "2017-11-13 08:52:58.107389                  70.206870   \n",
       "2017-11-13 08:58:00.106485                  70.267693   \n",
       "2017-11-13 09:02:57.060709                  70.108701   \n",
       "2017-11-13 09:07:58.085158                  69.559168   \n",
       "2017-11-13 09:12:57.084185                  69.475938   \n",
       "\n",
       "                            buy_highest_priceA(t-10)  last_trade_priceA(t-10)  \\\n",
       "2017-11-13 08:52:58.107389                 70.207938                70.197267   \n",
       "2017-11-13 08:58:00.106485                 70.268760                70.268760   \n",
       "2017-11-13 09:02:57.060709                 70.111903                70.179127   \n",
       "2017-11-13 09:07:58.085158                 69.613588                69.609320   \n",
       "2017-11-13 09:12:57.084185                 69.491944                69.471670   \n",
       "\n",
       "                            absvopr(t-10)  \n",
       "2017-11-13 08:52:58.107389      70.123346  \n",
       "2017-11-13 08:58:00.106485      70.226169  \n",
       "2017-11-13 09:02:57.060709      69.981522  \n",
       "2017-11-13 09:07:58.085158      69.532790  \n",
       "2017-11-13 09:12:57.084185      69.592144  \n",
       "\n",
       "[5 rows x 76 columns]"
      ]
     },
     "execution_count": 35,
     "metadata": {},
     "output_type": "execute_result"
    }
   ],
   "source": [
    "data =  pd.concat([other_data_raw, data_stock_raw.loc[:,input_names]], axis=1, join='inner')\n",
    "data.head()"
   ]
  },
  {
   "cell_type": "code",
   "execution_count": 36,
   "metadata": {
    "collapsed": false
   },
   "outputs": [
    {
     "name": "stdout",
     "output_type": "stream",
     "text": [
      "1240\n"
     ]
    }
   ],
   "source": [
    "import pickle\n",
    "import sys\n",
    "p = pickle.dumps(pip)\n",
    "print(sys.getsizeof(p))"
   ]
  },
  {
   "cell_type": "code",
   "execution_count": null,
   "metadata": {
    "collapsed": false,
    "scrolled": false
   },
   "outputs": [],
   "source": [
    "cv_k= np.zeros([K,1])\n",
    "poly = PolynomialFeatures(interaction_only=True,include_bias = False)\n",
    "X_t = data.get_values()\n",
    "X_t = StandardScaler().fit_transform(X_t)\n",
    "X_t = poly.fit_transform(X_t)\n",
    "Y = data_stock_raw.loc[:,sum(fut_feat, [])].get_values()\n",
    "cv = ShuffleSplit(n_splits=10, test_size=0.1, random_state=0)\n",
    "np.mean(cross_val_score(pip, X_t,Y, cv=cv,n_jobs=-1,scoring='neg_mean_squared_error'))\n"
   ]
  },
  {
   "cell_type": "code",
   "execution_count": 44,
   "metadata": {
    "collapsed": false
   },
   "outputs": [
    {
     "data": {
      "text/plain": [
       "(11166, 12)"
      ]
     },
     "execution_count": 44,
     "metadata": {},
     "output_type": "execute_result"
    }
   ],
   "source": [
    "X_t = data.loc[:,input_names].get_values()\n",
    "X_t.shape"
   ]
  },
  {
   "cell_type": "markdown",
   "metadata": {},
   "source": [
    "*find out how good my prediction is and where error is happening :*"
   ]
  },
  {
   "cell_type": "code",
   "execution_count": 49,
   "metadata": {
    "collapsed": false
   },
   "outputs": [
    {
     "data": {
      "image/png": "[encoded data removed]",
      "text/plain": [
       "<matplotlib.figure.Figure at 0x2161ab43eb8>"
      ]
     },
     "metadata": {},
     "output_type": "display_data"
    },
    {
     "data": {
      "image/png": "[encoded data removed]",
      "text/plain": [
       "<matplotlib.figure.Figure at 0x2161b72ee80>"
      ]
     },
     "metadata": {},
     "output_type": "display_data"
    },
    {
     "data": {
      "image/png": "[encoded data removed]",
      "text/plain": [
       "<matplotlib.figure.Figure at 0x2161cc00c50>"
      ]
     },
     "metadata": {},
     "output_type": "display_data"
    }
   ],
   "source": [
    "X_t = data.loc[:,input_names].get_values()\n",
    "poly = PolynomialFeatures(interaction_only=True,include_bias = False)\n",
    "X_t = StandardScaler().fit_transform(X_t)\n",
    "X_t = poly.fit_transform(X_t)\n",
    "Y = data_stock_raw.loc[:,fut_feat[0]].get_values()\n",
    "f_model1.fit(X_t,np.ravel(Y))\n",
    "yplot = DataFrame(Y)\n",
    "yplot.plot()\n",
    "yplot = DataFrame(f_model1.predict(X_t))\n",
    "yplot.plot()\n",
    "plt.show()"
   ]
  },
  {
   "cell_type": "markdown",
   "metadata": {},
   "source": [
    "*find importanty features by feature importance*\n",
    "it seems that near value data are much more important than far features ."
   ]
  },
  {
   "cell_type": "code",
   "execution_count": 61,
   "metadata": {
    "collapsed": false
   },
   "outputs": [
    {
     "data": {
      "image/png": "[encoded data removed]",
      "text/plain": [
       "<matplotlib.figure.Figure at 0x2161cc89208>"
      ]
     },
     "metadata": {},
     "output_type": "display_data"
    }
   ],
   "source": [
    "# plot importance scores\n",
    "ticks = list(range(78)) \n",
    "plt.bar(ticks, f_model1.feature_importances_)\n",
    "plt.show()"
   ]
  },
  {
   "cell_type": "markdown",
   "metadata": {},
   "source": [
    "*some EDA on Book data *\n",
    "plot histogram of absoloute value of price * volume to find any pattern :"
   ]
  },
  {
   "cell_type": "code",
   "execution_count": 56,
   "metadata": {
    "collapsed": false
   },
   "outputs": [
    {
     "data": {
      "image/png": "[encoded data removed]",
      "text/plain": [
       "<Figure size 432x288 with 1 Axes>"
      ]
     },
     "metadata": {},
     "output_type": "display_data"
    }
   ],
   "source": [
    "tall = pd.merge(aall_book,ball_book, left_index=True, right_index=True)\n",
    "df2 = tall.iloc[10,:].T\n",
    "plt.figure()\n",
    "df2.plot.bar()\n",
    "plt.show()"
   ]
  },
  {
   "cell_type": "markdown",
   "metadata": {},
   "source": [
    "*find out how trades are happening in case of each 5 min and where last price comes on this trades * "
   ]
  },
  {
   "cell_type": "code",
   "execution_count": 64,
   "metadata": {
    "collapsed": false
   },
   "outputs": [
    {
     "data": {
      "image/png": "[encoded data removed]",
      "text/plain": [
       "<matplotlib.figure.Figure at 0x2161cc1bd30>"
      ]
     },
     "metadata": {},
     "output_type": "display_data"
    },
    {
     "data": {
      "image/png": "[encoded data removed]",
      "text/plain": [
       "<matplotlib.figure.Figure at 0x2161cc1b4a8>"
      ]
     },
     "metadata": {},
     "output_type": "display_data"
    },
    {
     "data": {
      "image/png": "[encoded data removed]",
      "text/plain": [
       "<matplotlib.figure.Figure at 0x2161d3289b0>"
      ]
     },
     "metadata": {},
     "output_type": "display_data"
    },
    {
     "name": "stdout",
     "output_type": "stream",
     "text": [
      "2017-11-13 06:47:52.005880000     85.097402\n",
      "2017-11-13 06:52:57.527236999     49.160407\n",
      "2017-11-13 06:57:58.085662000     24.890509\n",
      "2017-11-13 07:02:57.098389000     26.787416\n",
      "2017-11-13 07:07:57.429270000     39.864839\n",
      "2017-11-13 07:12:57.096186000     38.047741\n",
      "2017-11-13 07:17:57.096133000     39.548353\n",
      "2017-11-13 07:22:57.322941000     38.636847\n",
      "2017-11-13 07:27:57.149332000     48.984871\n",
      "2017-11-13 07:32:57.085762000     32.589320\n",
      "2017-11-13 07:37:57.350605000     51.354244\n",
      "2017-11-13 07:42:57.196558000     62.501000\n",
      "2017-11-13 07:47:58.331846000     50.634428\n",
      "2017-11-13 07:52:59.552217000     64.243357\n",
      "2017-11-13 07:59:01.837357000     39.001069\n",
      "2017-11-13 08:02:57.321622000     23.411397\n",
      "2017-11-13 08:07:57.707800000     35.494869\n",
      "2017-11-13 08:12:57.315138000     54.950925\n",
      "2017-11-13 08:17:57.076812000     58.556392\n",
      "2017-11-13 08:22:58.116854000     82.373487\n",
      "2017-11-13 08:27:57.075746000     31.450078\n",
      "2017-11-13 08:32:57.083999000     74.559469\n",
      "2017-11-13 08:37:57.402627000     37.739772\n",
      "2017-11-13 08:42:57.092059000     66.630462\n",
      "2017-11-13 08:47:57.132510999     86.559463\n",
      "2017-11-13 08:52:58.107389000     34.971709\n",
      "2017-11-13 08:58:00.106485000     74.447465\n",
      "2017-11-13 09:02:57.060709000     76.718933\n",
      "2017-11-13 09:07:58.085158000     70.826617\n",
      "2017-11-13 09:12:57.084185000     81.631748\n",
      "                                    ...    \n",
      "2017-12-22 18:50:36.586337000     24.382597\n",
      "2017-12-22 18:55:37.633484000    165.876669\n",
      "2017-12-22 19:00:37.170496000    128.793512\n",
      "2017-12-22 19:05:36.621540000    122.500404\n",
      "2017-12-22 19:10:36.570526000    107.902175\n",
      "2017-12-22 19:15:37.517198999     90.705062\n",
      "2017-12-22 19:20:37.858765000    171.533141\n",
      "2017-12-22 19:25:36.597351000    150.285901\n",
      "2017-12-22 19:30:36.618997000    129.045755\n",
      "2017-12-22 19:35:36.698088000    159.914912\n",
      "2017-12-22 19:40:36.935806000     71.099360\n",
      "2017-12-22 19:45:37.732447000     77.957458\n",
      "2017-12-22 19:50:36.887315000     39.616658\n",
      "2017-12-22 19:55:37.012641000     67.124514\n",
      "2017-12-22 20:00:36.619675000     63.894555\n",
      "2017-12-22 20:05:36.609497000     53.188470\n",
      "2017-12-22 20:10:36.637634000     46.868718\n",
      "2017-12-22 20:15:37.686094000     48.710076\n",
      "2017-12-22 20:20:36.642121000     62.270977\n",
      "2017-12-22 20:25:36.831930000     24.428894\n",
      "2017-12-22 20:30:36.588137000     30.867694\n",
      "2017-12-22 20:35:37.013394000     20.200473\n",
      "2017-12-22 20:40:36.627617000     27.146667\n",
      "2017-12-22 20:45:36.628404000     71.380312\n",
      "2017-12-22 20:50:36.572597000     48.132586\n",
      "2017-12-22 20:55:36.774158000     73.216094\n",
      "2017-12-22 21:00:36.618621000     31.144259\n",
      "2017-12-22 21:05:36.865772000     71.991038\n",
      "2017-12-22 21:10:36.598689000     34.777123\n",
      "2017-12-22 21:15:36.614528000     56.669879\n",
      "Name: buy_highest_volA, dtype: float64\n",
      "70.6054598218\n"
     ]
    }
   ],
   "source": [
    "i = 0\n",
    "ls_p = ticker['A'].iloc[:,3]\n",
    "q_min = np.argmin(np.absolute([temp_price_trade.iloc[i,:]-ls_p]))\n",
    "df1 = pd.concat([temp_price_trade.iloc[i,:] ])\n",
    "df2 = pd.concat([temp_vol_trade.iloc[i,:] ])\n",
    "df3 = pd.concat([temp_vopr_trade.iloc[i,:] ])\n",
    "df1.index = np.arange(120)\n",
    "df2.index = np.arange(120)\n",
    "df3.index = np.arange(120)\n",
    "\n",
    "plt.figure()\n",
    "df1.plot()\n",
    "#df2.plot.hist()\n",
    "#plt.plot([ls_p,ls_p],[1,10],'k-', lw=2)\n",
    "plt.figure()\n",
    "df2.plot()\n",
    "plt.figure()\n",
    "df3.plot()\n",
    "plt.show()\n",
    "print (ls_p)\n",
    "print(sum(np.absolute(temp_vopr_trade.iloc[i,:])) /sum(np.absolute(temp_vol_trade.iloc[i,:])))"
   ]
  },
  {
   "cell_type": "markdown",
   "metadata": {},
   "source": [
    "*by correlation plot i find features that are mot realated to last price * "
   ]
  },
  {
   "cell_type": "code",
   "execution_count": 66,
   "metadata": {
    "collapsed": false
   },
   "outputs": [
    {
     "data": {
      "image/png": "[encoded data removed]",
      "text/plain": [
       "<matplotlib.figure.Figure at 0x2161d33eda0>"
      ]
     },
     "metadata": {},
     "output_type": "display_data"
    },
    {
     "data": {
      "image/png": "[encoded data removed]",
      "text/plain": [
       "<matplotlib.figure.Figure at 0x2161b377c50>"
      ]
     },
     "metadata": {},
     "output_type": "display_data"
    }
   ],
   "source": [
    "plt.matshow(ticker['A'].corr())\n",
    "plt.show()"
   ]
  }
 ],
 "metadata": {
  "anaconda-cloud": {},
  "kernelspec": {
   "display_name": "Python 3",
   "language": "python",
   "name": "python3"
  },
  "language_info": {
   "codemirror_mode": {
    "name": "ipython",
    "version": 3
   },
   "file_extension": ".py",
   "mimetype": "text/x-python",
   "name": "python",
   "nbconvert_exporter": "python",
   "pygments_lexer": "ipython3",
   "version": "3.6.0"
  }
 },
 "nbformat": 4,
 "nbformat_minor": 1
}
